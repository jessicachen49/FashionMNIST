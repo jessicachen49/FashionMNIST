{
 "cells": [
  {
   "cell_type": "code",
   "execution_count": 2,
   "metadata": {},
   "outputs": [
    {
     "name": "stderr",
     "output_type": "stream",
     "text": [
      "Using TensorFlow backend.\n"
     ]
    },
    {
     "name": "stdout",
     "output_type": "stream",
     "text": [
      "[INFO] loading Fashion MNIST...\n"
     ]
    }
   ],
   "source": [
    "# import the necessary packages\n",
    "from keras.datasets import fashion_mnist\n",
    "\n",
    "print(\"[INFO] loading Fashion MNIST...\")\n",
    "((trainX, trainY), (testX, testY)) = fashion_mnist.load_data()"
   ]
  },
  {
   "cell_type": "markdown",
   "metadata": {},
   "source": [
    "# Problem"
   ]
  },
  {
   "cell_type": "markdown",
   "metadata": {},
   "source": [
    "1. (25%) Please implement a CNN for image recognition. You need to design at least two layers of\n",
    "convolutional layers and analyze the effect of different settings including stride size and filter size.\n",
    "The objective function is E(w) = −\n",
    "1\n",
    "m\n",
    "X\n",
    "M\n",
    "m=1\n",
    "X\n",
    "C\n",
    "i=1\n",
    "tmilogSi\n",
    ", (1)\n",
    "where tmi is the ith target of the mth sample in the batch, M is the batch size, C is the classes\n",
    "for each sample, Si\n",
    "is softmax activation of neural nets output function."
   ]
  },
  {
   "cell_type": "code",
   "execution_count": 32,
   "metadata": {},
   "outputs": [],
   "source": [
    "from keras.models import Sequential\n",
    "from keras.layers.normalization import BatchNormalization\n",
    "from keras.layers.convolutional import Conv2D\n",
    "from keras.layers.convolutional import MaxPooling2D\n",
    "from keras.layers.core import Activation\n",
    "from keras.layers.core import Flatten\n",
    "from keras.layers.core import Dropout\n",
    "from keras.layers.core import Dense\n",
    "from keras import backend as K\n",
    "from keras import models"
   ]
  },
  {
   "cell_type": "code",
   "execution_count": 8,
   "metadata": {},
   "outputs": [],
   "source": [
    "from sklearn.metrics import classification_report\n",
    "from keras.optimizers import SGD\n",
    "from keras.datasets import fashion_mnist\n",
    "from keras.utils import np_utils\n",
    "from keras import backend as K\n",
    "import matplotlib.pyplot as plt\n",
    "import numpy as np\n",
    "import cv2\n",
    "\n",
    "labels = [\"top\", \"trouser\", \"pullover\", \"dress\", \"coat\",\"sandal\", \"shirt\", \"sneaker\", \"bag\", \"ankle boot\"]"
   ]
  },
  {
   "cell_type": "code",
   "execution_count": 7,
   "metadata": {},
   "outputs": [],
   "source": [
    "if K.image_data_format() == \"channels_first\":\n",
    "    trainX = trainX.reshape((trainX.shape[0], 1, 28, 28))\n",
    "    testX = testX.reshape((testX.shape[0], 1, 28, 28))\n",
    "else:\n",
    "    trainX = trainX.reshape((trainX.shape[0], 28, 28, 1))\n",
    "    testX = testX.reshape((testX.shape[0], 28, 28, 1))"
   ]
  },
  {
   "cell_type": "code",
   "execution_count": 9,
   "metadata": {},
   "outputs": [],
   "source": [
    "trainX = trainX.astype(\"float32\") / 255.0\n",
    "testX = testX.astype(\"float32\") / 255.0\n",
    " \n",
    "trainY = np_utils.to_categorical(trainY, 10)\n",
    "testY = np_utils.to_categorical(testY, 10)"
   ]
  },
  {
   "cell_type": "code",
   "execution_count": 18,
   "metadata": {},
   "outputs": [],
   "source": [
    "def Model(width, height, depth, classes, FS, units):\n",
    "    model = Sequential()\n",
    "    inputShape = (height, width, depth)\n",
    "    chanDim = -1\n",
    " \n",
    "    if K.image_data_format() == \"channels_first\":\n",
    "        inputShape = (depth, height, width)\n",
    "        chanDim = 1\n",
    "        \n",
    "    model.add(Conv2D(32, (FS, FS), padding=\"same\",input_shape=inputShape, activation='relu'))\n",
    "    model.add(BatchNormalization(axis=chanDim))\n",
    "    model.add(Conv2D(32, (FS, FS), padding=\"same\", activation='relu'))\n",
    "    model.add(BatchNormalization(axis=chanDim))\n",
    "    model.add(MaxPooling2D(pool_size=(2, 2)))\n",
    "    model.add(Dropout(0.25))\n",
    "\n",
    "    # second layer\n",
    "    model.add(Conv2D(64, (FS, FS), padding=\"same\", activation = 'relu'))\n",
    "    model.add(BatchNormalization(axis=chanDim))\n",
    "    model.add(Conv2D(64, (FS, FS), padding=\"same\", activation = 'relu'))\n",
    "    model.add(BatchNormalization(axis=chanDim))\n",
    "    model.add(MaxPooling2D(pool_size=(2, 2)))\n",
    "    model.add(Dropout(0.25))\n",
    "\n",
    "    model.add(Flatten())\n",
    "    model.add(Dense(units, activation = 'relu'))\n",
    "    model.add(BatchNormalization())\n",
    "    model.add(Dropout(0.5))\n",
    "\n",
    "    # softmax \n",
    "    model.add(Dense(classes, activation = 'softmax'))\n",
    "\n",
    "    return model"
   ]
  },
  {
   "cell_type": "code",
   "execution_count": 19,
   "metadata": {},
   "outputs": [
    {
     "name": "stdout",
     "output_type": "stream",
     "text": [
      "[INFO] training model...\n",
      "Train on 60000 samples, validate on 10000 samples\n",
      "Epoch 1/10\n",
      "60000/60000 [==============================] - 186s 3ms/step - loss: 0.6268 - acc: 0.7842 - val_loss: 0.4216 - val_acc: 0.8457\n",
      "Epoch 2/10\n",
      "60000/60000 [==============================] - 177s 3ms/step - loss: 0.4759 - acc: 0.8272 - val_loss: 0.3967 - val_acc: 0.8582\n",
      "Epoch 3/10\n",
      "60000/60000 [==============================] - 168s 3ms/step - loss: 0.4517 - acc: 0.8352 - val_loss: 0.3859 - val_acc: 0.8612\n",
      "Epoch 4/10\n",
      "60000/60000 [==============================] - 169s 3ms/step - loss: 0.4376 - acc: 0.8411 - val_loss: 0.3746 - val_acc: 0.8652\n",
      "Epoch 5/10\n",
      "60000/60000 [==============================] - 171s 3ms/step - loss: 0.4286 - acc: 0.8445 - val_loss: 0.3655 - val_acc: 0.8686\n",
      "Epoch 6/10\n",
      "60000/60000 [==============================] - 172s 3ms/step - loss: 0.4239 - acc: 0.8474 - val_loss: 0.3600 - val_acc: 0.8712\n",
      "Epoch 7/10\n",
      "60000/60000 [==============================] - 175s 3ms/step - loss: 0.4142 - acc: 0.8504 - val_loss: 0.3600 - val_acc: 0.8699\n",
      "Epoch 8/10\n",
      "60000/60000 [==============================] - 176s 3ms/step - loss: 0.4156 - acc: 0.8499 - val_loss: 0.3537 - val_acc: 0.8718ETA: 2:26 - loss: 0.4105 - acc: 0. - ETA:  - ETA: 2:15 - loss: 0.41 - ETA: 2: - ETA: 2:11 - loss: 0.4151 - acc: 0 - ETA: 2:11 - loss: 0.4 - ETA: 2:09 - loss: 0.4 - ETA: 2:08 - l - ETA: 1:58 - loss: 0.4156 - acc: 0 - ETA: 1:58 - loss: 0.4150 - acc:  - ET - ETA: 1:54 - loss: 0.4131 - acc: 0 - ETA: 1:53 - loss: 0.4127 - a - ETA: 1:52 - loss: 0.4135 - acc - ETA: 1:52 - loss: 0. - ETA:  - ETA: 1:44 - loss: 0.4  - ETA: 1:24 - loss: 0.418 - ETA: 12s - loss: 0.4157 - - ETA: 12s - loss: 0. - ETA: 11s - loss: 0.4 - ETA: 7s - loss: 0.4159 - ETA: 6s - loss: 0.4156 - acc:  - ETA: 5s - loss: 0.4157 -  - ETA: 1s - loss: 0.4160 -  - ETA: 0s - loss: 0.4159 - acc: \n",
      "Epoch 9/10\n",
      "60000/60000 [==============================] - 178s 3ms/step - loss: 0.4099 - acc: 0.8513 - val_loss: 0.3511 - val_acc: 0.8730- loss: 0.4061 - ETA: 2:36 - los - ETA: 2:34 - loss: 0.4035 - acc: 0.8 - ETA: 2:34 - loss: 0.4046 - acc - ETA: 2:33 - loss: 0.4032 - acc: - - ETA: 1:45 - loss: 0.4069 - ETA: 1:44 - los - ETA: 1:42 - lo - ETA: 1:40  - ETA: 1:37 - - ETA: 1:24 - loss: 0.4 - ETA: 1:22 - - ETA: 1:20 - loss: 0.4070 - acc: 0 - ETA: 1:19 - loss: 0.407 - ETA: 1:18 - l - ETA: 1:16 - - ETA: 1:13 - loss: 0.4084 - ETA: 1:12 - loss: 0.4076 - ETA: 1:11 - loss: 0.4074 - acc: - - ETA: 1:03 - loss: 0.4083 - - ETA: 52s - loss: 0.4074 - ETA: 49s - loss: 0.4078 - a - ETA - ETA: 47s - loss: 0.40 - - ETA: 16s - loss: 0.40 - E - ETA: 4s - loss: 0.4096 - ETA\n",
      "Epoch 10/10\n",
      "60000/60000 [==============================] - 180s 3ms/step - loss: 0.4012 - acc: 0.8552 - val_loss: 0.3473 - val_acc: 0.8750: 2:42 - loss: 0.4161 - acc: - ETA: 2:42 - loss: 0.4133 - acc: 0.8 - ETA: 2:42 - loss:  - ETA: 2:40 - loss: 0.4028 - acc: - ETA: 2:36 - loss: 0.3951 - acc: - ETA: 2:35 - loss: 0.3940 - acc: - ETA: 2:34 - loss - ETA: 2:32 - loss: 0.3907 - acc: 0. - ETA: 2:32 - los - ETA: 2:29 - loss: 0. - ETA: 2:16 - loss: 0.3988 - acc: - ETA: 2:16 - loss: 0.3982 - acc - - ETA: 1:53 - loss: 0.4036 - acc:  - ETA: 1:52 - loss: 0.4028 -  - ETA: 1:51 - loss: 0.4036 - acc: 0.851 - ETA: 1:51 - loss: 0.4037 - a - ETA: 1:46 - lo - ETA:  - ETA: 1:41 - loss: 0.4024 - acc: 0. - ETA: 1:41 - loss: 0.4026 - acc: 0.852 - ETA: 1:4 - ETA: 1:38 -  - ETA: 1:36 - loss: 0 - ETA: 1:34 - loss: 0.4028 - - ETA: 1:3 - ETA: 1 - ETA: 1:27 - loss: 0.4029 - acc: 0.85 - ETA: 1:27 - loss: 0.4029 - - ETA: 1:26 - loss: 0.4026 - acc: 0.8 - ETA: 1:26 - loss: 0.4028 - acc: 0. - ETA: 1:2 - ETA: 1:23  - ETA: 1:20 - los - ETA: 1:18 - loss: 0.4001 - ac - ETA: 1:17 - loss: 0.3997 - acc: 0. - ETA: 1:17 - loss: 0.3996 - acc: 0.854 - ETA: 1:17 - loss: 0.3996 - acc: 0.854 - ETA: 1:17 - lo - ETA: 1:15 - loss: 0.3994 - acc: 0. - ETA: 1:14 - l - ETA - E - ET\n"
     ]
    }
   ],
   "source": [
    "#try first setting\n",
    "EPOCHS = 10\n",
    "LR = 1e-1\n",
    "BS = 32\n",
    "\n",
    "opt = SGD(lr=LR, momentum=0.9, decay=LR / EPOCHS)\n",
    "model1 = Model(width=28, height=28, depth=1, classes=10, FS = 3, units= 256)\n",
    "model1.compile(loss=\"categorical_crossentropy\", optimizer=opt, metrics=[\"accuracy\"])\n",
    " \n",
    "# training\n",
    "print(\"[INFO] training model...\")\n",
    "history1 = model1.fit(trainX, trainY, validation_data = (testX, testY), batch_size=BS, epochs=EPOCHS)"
   ]
  },
  {
   "cell_type": "code",
   "execution_count": 20,
   "metadata": {},
   "outputs": [
    {
     "name": "stdout",
     "output_type": "stream",
     "text": [
      "[INFO] training model...\n",
      "Train on 60000 samples, validate on 10000 samples\n",
      "Epoch 1/10\n",
      "60000/60000 [==============================] - 294s 5ms/step - loss: 1.1463 - acc: 0.7372 - val_loss: 0.4990 - val_acc: 0.8138\n",
      "Epoch 2/10\n",
      "60000/60000 [==============================] - 290s 5ms/step - loss: 0.5576 - acc: 0.7941 - val_loss: 0.4700 - val_acc: 0.8228\n",
      "Epoch 3/10\n",
      "60000/60000 [==============================] - 287s 5ms/step - loss: 0.5201 - acc: 0.8096 - val_loss: 0.4561 - val_acc: 0.8288\n",
      "Epoch 4/10\n",
      "60000/60000 [==============================] - 288s 5ms/step - loss: 0.5066 - acc: 0.8151 - val_loss: 0.4404 - val_acc: 0.8367\n",
      "Epoch 5/10\n",
      "60000/60000 [==============================] - 290s 5ms/step - loss: 0.4994 - acc: 0.8175 - val_loss: 0.4319 - val_acc: 0.8407\n",
      "Epoch 6/10\n",
      "60000/60000 [==============================] - 291s 5ms/step - loss: 0.4947 - acc: 0.8208 - val_loss: 0.4269 - val_acc: 0.8422\n",
      "Epoch 7/10\n",
      "60000/60000 [==============================] - 322s 5ms/step - loss: 0.4807 - acc: 0.8220 - val_loss: 0.4217 - val_acc: 0.8449\n",
      "Epoch 8/10\n",
      "60000/60000 [==============================] - 302s 5ms/step - loss: 0.4738 - acc: 0.8263 - val_loss: 0.4174 - val_acc: 0.8478\n",
      "Epoch 9/10\n",
      "60000/60000 [==============================] - 303s 5ms/step - loss: 0.4711 - acc: 0.8260 - val_loss: 0.4145 - val_acc: 0.8486\n",
      "Epoch 10/10\n",
      "60000/60000 [==============================] - 302s 5ms/step - loss: 0.4683 - acc: 0.8280 - val_loss: 0.4099 - val_acc: 0.8502\n"
     ]
    }
   ],
   "source": [
    "#try second setting\n",
    "EPOCHS = 10\n",
    "LR = 1e-1\n",
    "BS = 32\n",
    "\n",
    "opt = SGD(lr=LR, momentum=0.9, decay=LR / EPOCHS)\n",
    "model1 = Model(width=28, height=28, depth=1, classes=10, FS = 5, units= 512)\n",
    "model1.compile(loss=\"categorical_crossentropy\", optimizer=opt, metrics=[\"accuracy\"])\n",
    " \n",
    "# training\n",
    "print(\"[INFO] training model...\")\n",
    "history1 = model1.fit(trainX, trainY, validation_data = (testX, testY), batch_size=BS, epochs=EPOCHS)"
   ]
  },
  {
   "cell_type": "code",
   "execution_count": 22,
   "metadata": {},
   "outputs": [
    {
     "name": "stdout",
     "output_type": "stream",
     "text": [
      "[INFO] training model...\n",
      "Train on 60000 samples, validate on 10000 samples\n",
      "Epoch 1/15\n",
      "60000/60000 [==============================] - 314s 5ms/step - loss: 0.9099 - acc: 0.7351 - val_loss: 0.5124 - val_acc: 0.8053\n",
      "Epoch 2/15\n",
      "60000/60000 [==============================] - 317s 5ms/step - loss: 0.5625 - acc: 0.7907 - val_loss: 0.4775 - val_acc: 0.8194\n",
      "Epoch 3/15\n",
      "60000/60000 [==============================] - 313s 5ms/step - loss: 0.5321 - acc: 0.8015 - val_loss: 0.4620 - val_acc: 0.8286\n",
      "Epoch 4/15\n",
      "60000/60000 [==============================] - 322s 5ms/step - loss: 0.5133 - acc: 0.8095 - val_loss: 0.4511 - val_acc: 0.8321cc: 0.809 - ETA: 3s - loss\n",
      "Epoch 5/15\n",
      "60000/60000 [==============================] - 314s 5ms/step - loss: 0.5043 - acc: 0.8136 - val_loss: 0.4415 - val_acc: 0.8375\n",
      "Epoch 6/15\n",
      "60000/60000 [==============================] - 313s 5ms/step - loss: 0.4973 - acc: 0.8167 - val_loss: 0.4345 - val_acc: 0.8383\n",
      "Epoch 7/15\n",
      "60000/60000 [==============================] - 311s 5ms/step - loss: 0.4904 - acc: 0.8196 - val_loss: 0.4304 - val_acc: 0.8418\n",
      "Epoch 8/15\n",
      "60000/60000 [==============================] - 312s 5ms/step - loss: 0.4847 - acc: 0.8219 - val_loss: 0.4259 - val_acc: 0.8438\n",
      "Epoch 9/15\n",
      "60000/60000 [==============================] - 313s 5ms/step - loss: 0.4770 - acc: 0.8245 - val_loss: 0.4217 - val_acc: 0.8469\n",
      "Epoch 10/15\n",
      "60000/60000 [==============================] - 347s 6ms/step - loss: 0.4755 - acc: 0.8252 - val_loss: 0.4198 - val_acc: 0.8468\n",
      "Epoch 11/15\n",
      "60000/60000 [==============================] - 317s 5ms/step - loss: 0.4702 - acc: 0.8275 - val_loss: 0.4142 - val_acc: 0.8494\n",
      "Epoch 12/15\n",
      "60000/60000 [==============================] - 318s 5ms/step - loss: 0.4707 - acc: 0.8272 - val_loss: 0.4125 - val_acc: 0.8507\n",
      "Epoch 13/15\n",
      "60000/60000 [==============================] - 320s 5ms/step - loss: 0.4642 - acc: 0.8296 - val_loss: 0.4103 - val_acc: 0.8510\n",
      "Epoch 14/15\n",
      "60000/60000 [==============================] - 321s 5ms/step - loss: 0.4651 - acc: 0.8296 - val_loss: 0.4084 - val_acc: 0.8519\n",
      "Epoch 15/15\n",
      "60000/60000 [==============================] - 323s 5ms/step - loss: 0.4638 - acc: 0.8291 - val_loss: 0.4065 - val_acc: 0.8527\n"
     ]
    }
   ],
   "source": [
    "#try third setting\n",
    "EPOCHS = 15\n",
    "LR = 1e-1\n",
    "BS = 32\n",
    "\n",
    "opt = SGD(lr=LR, momentum=0.9, decay=LR / EPOCHS)\n",
    "model1 = Model(width=28, height=28, depth=1, classes=10, FS = 5, units= 512)\n",
    "model1.compile(loss=\"categorical_crossentropy\", optimizer=opt, metrics=[\"accuracy\"])\n",
    " \n",
    "# training\n",
    "print(\"[INFO] training model...\")\n",
    "history1 = model1.fit(trainX, trainY, validation_data = (testX, testY), batch_size=BS, epochs=EPOCHS)"
   ]
  },
  {
   "cell_type": "code",
   "execution_count": 26,
   "metadata": {
    "scrolled": true
   },
   "outputs": [
    {
     "name": "stdout",
     "output_type": "stream",
     "text": [
      "[INFO] training model...\n",
      "Train on 60000 samples, validate on 10000 samples\n",
      "Epoch 1/25\n",
      "60000/60000 [==============================] - 249s 4ms/step - loss: 0.5301 - acc: 0.8230 - val_loss: 0.3393 - val_acc: 0.8775\n",
      "Epoch 2/25\n",
      "60000/60000 [==============================] - 241s 4ms/step - loss: 0.3355 - acc: 0.8806 - val_loss: 0.2687 - val_acc: 0.9030\n",
      "Epoch 3/25\n",
      "60000/60000 [==============================] - 233s 4ms/step - loss: 0.2898 - acc: 0.8960 - val_loss: 0.2490 - val_acc: 0.9096\n",
      "Epoch 4/25\n",
      "60000/60000 [==============================] - 237s 4ms/step - loss: 0.2643 - acc: 0.9039 - val_loss: 0.2296 - val_acc: 0.9151\n",
      "Epoch 5/25\n",
      "60000/60000 [==============================] - 240s 4ms/step - loss: 0.2499 - acc: 0.9095 - val_loss: 0.2271 - val_acc: 0.9182\n",
      "Epoch 6/25\n",
      "60000/60000 [==============================] - 243s 4ms/step - loss: 0.2380 - acc: 0.9135 - val_loss: 0.2193 - val_acc: 0.9215\n",
      "Epoch 7/25\n",
      "60000/60000 [==============================] - 243s 4ms/step - loss: 0.2271 - acc: 0.9172 - val_loss: 0.2254 - val_acc: 0.9197\n",
      "Epoch 8/25\n",
      "60000/60000 [==============================] - 246s 4ms/step - loss: 0.2202 - acc: 0.9197 - val_loss: 0.2064 - val_acc: 0.9259\n",
      "Epoch 9/25\n",
      "60000/60000 [==============================] - 245s 4ms/step - loss: 0.2129 - acc: 0.9221 - val_loss: 0.2059 - val_acc: 0.9259\n",
      "Epoch 10/25\n",
      "60000/60000 [==============================] - 241s 4ms/step - loss: 0.2068 - acc: 0.9241 - val_loss: 0.2016 - val_acc: 0.9258\n",
      "Epoch 11/25\n",
      "60000/60000 [==============================] - 240s 4ms/step - loss: 0.2052 - acc: 0.9254 - val_loss: 0.2004 - val_acc: 0.9290\n",
      "Epoch 12/25\n",
      "60000/60000 [==============================] - 239s 4ms/step - loss: 0.2025 - acc: 0.9258 - val_loss: 0.1965 - val_acc: 0.9276\n",
      "Epoch 13/25\n",
      "60000/60000 [==============================] - 239s 4ms/step - loss: 0.1944 - acc: 0.9290 - val_loss: 0.1965 - val_acc: 0.9288\n",
      "Epoch 14/25\n",
      "60000/60000 [==============================] - 242s 4ms/step - loss: 0.1917 - acc: 0.9297 - val_loss: 0.1977 - val_acc: 0.9296\n",
      "Epoch 15/25\n",
      "60000/60000 [==============================] - 237s 4ms/step - loss: 0.1893 - acc: 0.9317 - val_loss: 0.1927 - val_acc: 0.9291\n",
      "Epoch 16/25\n",
      "60000/60000 [==============================] - 223s 4ms/step - loss: 0.1852 - acc: 0.9325 - val_loss: 0.1913 - val_acc: 0.9300\n",
      "Epoch 17/25\n",
      "60000/60000 [==============================] - 222s 4ms/step - loss: 0.1870 - acc: 0.9310 - val_loss: 0.1903 - val_acc: 0.9293\n",
      "Epoch 18/25\n",
      "60000/60000 [==============================] - 223s 4ms/step - loss: 0.1839 - acc: 0.9329 - val_loss: 0.1914 - val_acc: 0.9311\n",
      "Epoch 19/25\n",
      "60000/60000 [==============================] - 226s 4ms/step - loss: 0.1811 - acc: 0.9333 - val_loss: 0.1951 - val_acc: 0.9299\n",
      "Epoch 20/25\n",
      "60000/60000 [==============================] - 225s 4ms/step - loss: 0.1797 - acc: 0.9340 - val_loss: 0.1864 - val_acc: 0.9314\n",
      "Epoch 21/25\n",
      "60000/60000 [==============================] - 225s 4ms/step - loss: 0.1757 - acc: 0.9361 - val_loss: 0.1835 - val_acc: 0.9328\n",
      "Epoch 22/25\n",
      "60000/60000 [==============================] - 226s 4ms/step - loss: 0.1758 - acc: 0.9364 - val_loss: 0.1847 - val_acc: 0.9317\n",
      "Epoch 23/25\n",
      "60000/60000 [==============================] - 268s 4ms/step - loss: 0.1720 - acc: 0.9374 - val_loss: 0.1861 - val_acc: 0.9319\n",
      "Epoch 24/25\n",
      "60000/60000 [==============================] - 225s 4ms/step - loss: 0.1683 - acc: 0.9381 - val_loss: 0.1841 - val_acc: 0.9330\n",
      "Epoch 25/25\n",
      "60000/60000 [==============================] - 226s 4ms/step - loss: 0.1704 - acc: 0.9374 - val_loss: 0.1909 - val_acc: 0.9315\n"
     ]
    }
   ],
   "source": [
    "#try fourth setting\n",
    "EPOCHS = 25\n",
    "LR = 1e-2\n",
    "BS = 32\n",
    "\n",
    "opt = SGD(lr=LR, momentum=0.9, decay=LR / EPOCHS)\n",
    "model = Model(width=28, height=28, depth=1, classes=10, FS = 3, units = 512)\n",
    "model.compile(loss=\"categorical_crossentropy\", optimizer=opt, metrics=[\"accuracy\"])\n",
    " \n",
    "# training\n",
    "print(\"[INFO] training model...\")\n",
    "history = model.fit(trainX, trainY, validation_data = (testX, testY), batch_size=BS, epochs=EPOCHS)"
   ]
  },
  {
   "cell_type": "code",
   "execution_count": 48,
   "metadata": {},
   "outputs": [
    {
     "name": "stdout",
     "output_type": "stream",
     "text": [
      "model evaluation\n",
      "              precision    recall  f1-score   support\n",
      "\n",
      "         top       0.91      0.84      0.88      1000\n",
      "     trouser       1.00      0.98      0.99      1000\n",
      "    pullover       0.92      0.90      0.91      1000\n",
      "       dress       0.93      0.93      0.93      1000\n",
      "        coat       0.86      0.93      0.90      1000\n",
      "      sandal       0.99      0.99      0.99      1000\n",
      "       shirt       0.78      0.81      0.79      1000\n",
      "     sneaker       0.96      0.98      0.97      1000\n",
      "         bag       0.99      0.99      0.99      1000\n",
      "  ankle boot       0.98      0.97      0.98      1000\n",
      "\n",
      "    accuracy                           0.93     10000\n",
      "   macro avg       0.93      0.93      0.93     10000\n",
      "weighted avg       0.93      0.93      0.93     10000\n",
      "\n"
     ]
    }
   ],
   "source": [
    "# use the fourth setting to make predictions on the test set\n",
    "preds = model.predict(testX)\n",
    " \n",
    "print(\"model evaluation\")\n",
    "print(classification_report(testY.argmax(axis=1), preds.argmax(axis=1),target_names=labels))\n",
    " "
   ]
  },
  {
   "cell_type": "markdown",
   "metadata": {},
   "source": [
    "2. (25%) Plot the learning curve, accuracy rate of training and test sets as the example found in\n",
    "Figure 1, and Figure 2."
   ]
  },
  {
   "cell_type": "code",
   "execution_count": 33,
   "metadata": {},
   "outputs": [
    {
     "data": {
      "text/plain": [
       "<matplotlib.legend.Legend at 0x29f87ebcf08>"
      ]
     },
     "execution_count": 33,
     "metadata": {},
     "output_type": "execute_result"
    },
    {
     "data": {
      "image/png": "[encoded data removed]",
      "text/plain": [
       "<Figure size 432x288 with 1 Axes>"
      ]
     },
     "metadata": {},
     "output_type": "display_data"
    }
   ],
   "source": [
    "#learning curve plot\n",
    "plt.style.use('ggplot')\n",
    "N = EPOCHS\n",
    "plt.figure()\n",
    "plt.plot(np.arange(0,N), history.history['loss'], label = 'train_loss')\n",
    "plt.plot(np.arange(0,N), history.history['val_loss'], label = 'val_loss')\n",
    "plt.title('Learning Curve')\n",
    "plt.xlabel('Epochs')\n",
    "plt.ylabel('Loss')\n",
    "plt.legend(loc='lower left')"
   ]
  },
  {
   "cell_type": "code",
   "execution_count": 30,
   "metadata": {},
   "outputs": [
    {
     "data": {
      "text/plain": [
       "<matplotlib.legend.Legend at 0x29f30c5d608>"
      ]
     },
     "execution_count": 30,
     "metadata": {},
     "output_type": "execute_result"
    },
    {
     "data": {
      "image/png": "[encoded data removed]",
      "text/plain": [
       "<Figure size 432x288 with 1 Axes>"
      ]
     },
     "metadata": {},
     "output_type": "display_data"
    }
   ],
   "source": [
    "#accuracy rate plot\n",
    "plt.figure()\n",
    "plt.plot(np.arange(0,EPOCHS), history.history['acc'], label = 'train_acc')\n",
    "plt.plot(np.arange(0,EPOCHS), history.history['val_acc'], label = 'val_acc')\n",
    "plt.title('Accuracy Rate')\n",
    "plt.xlabel('Epochs')\n",
    "plt.ylabel('Accuracy')\n",
    "plt.legend(loc='lower left')"
   ]
  },
  {
   "cell_type": "markdown",
   "metadata": {},
   "source": [
    "3. (25%) Please plot activations of the first layer as illustrated in Figure.4. Please also plot the\n",
    "corresponding image with your prediction and label (see Figure 3) and explain what you observe."
   ]
  },
  {
   "cell_type": "code",
   "execution_count": 34,
   "metadata": {},
   "outputs": [
    {
     "name": "stdout",
     "output_type": "stream",
     "text": [
      "ankle boot\n"
     ]
    },
    {
     "name": "stderr",
     "output_type": "stream",
     "text": [
      "C:\\Users\\Jessica\\Anaconda3\\envs\\tf\\lib\\site-packages\\ipykernel_launcher.py:2: UserWarning: Update your `Model` call to the Keras 2 API: `Model(outputs=[<tf.Tenso..., inputs=Tensor(\"co...)`\n",
      "  \n"
     ]
    },
    {
     "data": {
      "text/plain": [
       "(-0.5, 27.5, 27.5, -0.5)"
      ]
     },
     "execution_count": 34,
     "metadata": {},
     "output_type": "execute_result"
    },
    {
     "data": {
      "image/png": "[encoded data removed]",
      "text/plain": [
       "<Figure size 432x288 with 1 Axes>"
      ]
     },
     "metadata": {},
     "output_type": "display_data"
    }
   ],
   "source": [
    "layer_outputs = [layer.output for layer in model.layers[:1]] #first layer\n",
    "act_model = models.Model(input = model.input, outputs = layer_outputs)\n",
    "\n",
    "#show first test image and its label\n",
    "img = testX[0].reshape(1,28,28,1)\n",
    "prediction = preds.argmax(axis=1)\n",
    "label = labels[prediction[0]]\n",
    "print(label)\n",
    "plt.imshow(img[0,:,:,0],cmap='binary')\n",
    "plt.axis('off')"
   ]
  },
  {
   "cell_type": "code",
   "execution_count": 47,
   "metadata": {},
   "outputs": [
    {
     "name": "stderr",
     "output_type": "stream",
     "text": [
      "C:\\Users\\Jessica\\Anaconda3\\envs\\tf\\lib\\site-packages\\ipykernel_launcher.py:15: RuntimeWarning: invalid value encountered in true_divide\n",
      "  from ipykernel import kernelapp as app\n"
     ]
    },
    {
     "data": {
      "text/plain": [
       "<matplotlib.image.AxesImage at 0x2a0317ffd48>"
      ]
     },
     "execution_count": 47,
     "metadata": {},
     "output_type": "execute_result"
    },
    {
     "data": {
      "image/png": "[encoded data removed]",
      "text/plain": [
       "<Figure size 576x288 with 1 Axes>"
      ]
     },
     "metadata": {},
     "output_type": "display_data"
    }
   ],
   "source": [
    "#show activations of the first layer\n",
    "act = act_model.predict(img)\n",
    "\n",
    "img_row = 8\n",
    "first_act = act[0] #first layer activation \n",
    "features = first_act.shape[-1]\n",
    "size = first_act.shape[1]\n",
    "first_act = first_act.reshape(1,28,28,32)\n",
    "n_cols = features // img_row\n",
    "display_grid = np.zeros((size * n_cols, img_row * size))\n",
    "for col in range(n_cols):\n",
    "    for row in range(img_row):\n",
    "        chan_img = first_act[0,:, :,col * img_row + row]\n",
    "        chan_img -= chan_img.mean() \n",
    "        chan_img /= chan_img.std()\n",
    "        chan_img *= 64\n",
    "        chan_img = np.clip(chan_img, 0, 255).astype('uint8')\n",
    "        display_grid[col * size : (col + 1) * size, row * size : (row + 1) * size] = chan_img\n",
    "        scale = 1 / size\n",
    "plt.figure(figsize=(scale * display_grid.shape[1], scale * display_grid.shape[0]))\n",
    "plt.grid(False)\n",
    "plt.imshow(display_grid, aspect='auto', cmap='binary')"
   ]
  },
  {
   "cell_type": "markdown",
   "metadata": {},
   "source": [
    "The first layer retains almost the full shape. We can see the outer shape of the shoes from most of the images."
   ]
  },
  {
   "cell_type": "markdown",
   "metadata": {},
   "source": [
    "4. (25%) Please classify the clothing and plot the corresponding image and label (see Figure 5). The\n",
    "color of the label is green, it means the prediction is successful. If the color is red, it means the\n",
    "prediction is fails."
   ]
  },
  {
   "cell_type": "code",
   "execution_count": null,
   "metadata": {},
   "outputs": [],
   "source": [
    "from imutils import build_montages\n",
    "\n",
    "images = []\n",
    "\n",
    "for i in np.random.choice(np.arange(0, len(testY)), size=(16,)):\n",
    "    probs = model.predict(testX[np.newaxis, i])\n",
    "    prediction = probs.argmax(axis=1)\n",
    "    label = labels[prediction[0]]\n",
    "    if K.image_data_format() == \"channels_first\":\n",
    "        image = (testX[i][0] * 255).astype(\"uint8\")\n",
    "    else:\n",
    "        image = (testX[i] * 255).astype(\"uint8\")\n",
    "    #green text if correct\n",
    "    color = (0, 255, 0)\n",
    "    #red text if incorrect\n",
    "    if prediction[0] != np.argmax(testY[i]):\n",
    "        color = (0, 0, 255)\n",
    " \n",
    "    image = cv2.merge([image] * 3)\n",
    "    image = cv2.resize(image, (96, 96), interpolation=cv2.INTER_LINEAR)\n",
    "    cv2.putText(image, label, (5, 20), cv2.FONT_HERSHEY_SIMPLEX, 0.75, color, 2)\n",
    "\n",
    "    images.append(image)\n",
    "\n",
    "montage = build_montages(images, (96, 96), (4, 4))[0]\n",
    " \n",
    "# show the output\n",
    "cv2.imshow(\"Fashion MNIST\", montage)\n",
    "cv2.waitKey(0)"
   ]
  },
  {
   "cell_type": "code",
   "execution_count": null,
   "metadata": {},
   "outputs": [],
   "source": [
    "import matplotlib.image as mpimg\n",
    "img=mpimg.imread('FashionMNIST.png')\n",
    "imgplot = plt.imshow(img)\n",
    "plt.show()"
   ]
  },
  {
   "cell_type": "code",
   "execution_count": null,
   "metadata": {},
   "outputs": [],
   "source": []
  }
 ],
 "metadata": {
  "kernelspec": {
   "display_name": "Python 3",
   "language": "python",
   "name": "python3"
  },
  "language_info": {
   "codemirror_mode": {
    "name": "ipython",
    "version": 3
   },
   "file_extension": ".py",
   "mimetype": "text/x-python",
   "name": "python",
   "nbconvert_exporter": "python",
   "pygments_lexer": "ipython3",
   "version": "3.7.5"
  }
 },
 "nbformat": 4,
 "nbformat_minor": 2
}
